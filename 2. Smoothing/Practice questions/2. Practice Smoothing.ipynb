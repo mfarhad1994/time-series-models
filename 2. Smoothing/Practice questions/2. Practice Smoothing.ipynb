{
 "cells": [
  {
   "cell_type": "code",
   "execution_count": 1,
   "id": "16b0895d-1bcc-44c1-a882-78b608a1035d",
   "metadata": {},
   "outputs": [],
   "source": [
    "import itertools\n",
    "import matplotlib.pyplot as plt\n",
    "import numpy as np\n",
    "import pandas as pd\n",
    "import statsmodels.api as sm\n",
    "from sklearn.metrics import mean_absolute_error\n",
    "from sklearn.metrics import mean_squared_error\n",
    "import warnings\n",
    "warnings.filterwarnings('ignore')\n",
    "from statsmodels.tsa.holtwinters import ExponentialSmoothing"
   ]
  },
  {
   "cell_type": "code",
   "execution_count": 2,
   "id": "c8a253c4-bf73-4611-81ba-e334572739c7",
   "metadata": {},
   "outputs": [
    {
     "data": {
      "text/html": [
       "<div>\n",
       "<style scoped>\n",
       "    .dataframe tbody tr th:only-of-type {\n",
       "        vertical-align: middle;\n",
       "    }\n",
       "\n",
       "    .dataframe tbody tr th {\n",
       "        vertical-align: top;\n",
       "    }\n",
       "\n",
       "    .dataframe thead th {\n",
       "        text-align: right;\n",
       "    }\n",
       "</style>\n",
       "<table border=\"1\" class=\"dataframe\">\n",
       "  <thead>\n",
       "    <tr style=\"text-align: right;\">\n",
       "      <th></th>\n",
       "      <th>co2</th>\n",
       "    </tr>\n",
       "  </thead>\n",
       "  <tbody>\n",
       "    <tr>\n",
       "      <th>1959-10-03</th>\n",
       "      <td>313.0</td>\n",
       "    </tr>\n",
       "    <tr>\n",
       "      <th>1958-11-08</th>\n",
       "      <td>313.0</td>\n",
       "    </tr>\n",
       "    <tr>\n",
       "      <th>1959-10-10</th>\n",
       "      <td>313.1</td>\n",
       "    </tr>\n",
       "    <tr>\n",
       "      <th>1958-11-15</th>\n",
       "      <td>313.2</td>\n",
       "    </tr>\n",
       "    <tr>\n",
       "      <th>1960-09-24</th>\n",
       "      <td>313.3</td>\n",
       "    </tr>\n",
       "  </tbody>\n",
       "</table>\n",
       "</div>"
      ],
      "text/plain": [
       "              co2\n",
       "1959-10-03  313.0\n",
       "1958-11-08  313.0\n",
       "1959-10-10  313.1\n",
       "1958-11-15  313.2\n",
       "1960-09-24  313.3"
      ]
     },
     "execution_count": 2,
     "metadata": {},
     "output_type": "execute_result"
    }
   ],
   "source": [
    "#1\n",
    "data = sm.datasets.co2.load_pandas()\n",
    "df = data.data.sort_values('co2')\n",
    "df.head()"
   ]
  },
  {
   "cell_type": "code",
   "execution_count": null,
   "id": "a1ea7763-8eea-4d3e-bb88-c108a53b2aa0",
   "metadata": {},
   "outputs": [],
   "source": [
    "#2\n",
    "df = df['co2'].resample('?').mean()\n",
    "df.head()"
   ]
  },
  {
   "cell_type": "markdown",
   "id": "e16b18a0-b4d5-4940-bd97-8fb918a5c05f",
   "metadata": {},
   "source": [
    "https://pandas.pydata.org/docs/reference/api/pandas.DataFrame.resample.html"
   ]
  },
  {
   "cell_type": "markdown",
   "id": "7b3db4ec-b611-416a-915e-14a12d499aed",
   "metadata": {},
   "source": [
    "### English\n",
    "- Complete the code that finds the mean CO2 level monthly\n",
    "### German\n",
    "- Vervollständigen Sie den Code, der den durchschnittlichen CO2-Gehalt monatlich ermittelt"
   ]
  },
  {
   "cell_type": "code",
   "execution_count": null,
   "id": "61356541-410c-47ac-8065-e3497aa843ba",
   "metadata": {},
   "outputs": [],
   "source": [
    "#3\n",
    "##Code here "
   ]
  },
  {
   "cell_type": "markdown",
   "id": "2f394d1e-abe6-4596-81c0-4ee2f78b330f",
   "metadata": {},
   "source": [
    "### English\n",
    "- Find the sum of missing values\n",
    "### German\n",
    "- Finden Sie die Summe der fehlenden Werte"
   ]
  },
  {
   "cell_type": "code",
   "execution_count": null,
   "id": "99c9a573-81fa-42f5-889b-401390543590",
   "metadata": {},
   "outputs": [],
   "source": [
    "#4\n",
    "df = df.fillna(df.bfill())"
   ]
  },
  {
   "cell_type": "markdown",
   "id": "ea35fd12-2453-4c24-af1b-77c59bd648ec",
   "metadata": {},
   "source": [
    "### English \n",
    "- Activate the code to fill the missing value with the value from the next year\n",
    "### German \n",
    "- Aktivieren Sie den Code, um den fehlenden Wert mit dem Wert des nächsten Jahres zu füllen"
   ]
  },
  {
   "cell_type": "code",
   "execution_count": null,
   "id": "68a709d4-99a2-4674-a76b-1b701035e47a",
   "metadata": {},
   "outputs": [],
   "source": [
    "#5\n",
    "#code here "
   ]
  },
  {
   "cell_type": "markdown",
   "id": "45d57350-edac-4a1f-a7d0-8a61f229de31",
   "metadata": {},
   "source": [
    "### English \n",
    "-Visualize the change in CO2 levels using Plotly or any other library\n",
    "### German\n",
    "-Valisieren Sie die Veränderung des CO2-Gehalts mit Plotly oder einer anderen Bibliothek"
   ]
  },
  {
   "cell_type": "markdown",
   "id": "11efb08e-cfb6-42df-980b-71dc7e56c495",
   "metadata": {},
   "source": [
    "## Preperation ML model "
   ]
  },
  {
   "cell_type": "code",
   "execution_count": null,
   "id": "711151d7-ca21-475d-a76c-7770ce990b85",
   "metadata": {},
   "outputs": [],
   "source": [
    "#6\n",
    "#code here "
   ]
  },
  {
   "cell_type": "code",
   "execution_count": null,
   "id": "2e828516-a474-41ad-9cb4-eae6faae41c6",
   "metadata": {},
   "outputs": [],
   "source": [
    "check_stationarity(df)"
   ]
  },
  {
   "cell_type": "markdown",
   "id": "b7503217-1b00-48ad-8b85-b4a3315bc793",
   "metadata": {},
   "source": [
    "### English \n",
    "- Use the check_stationarity function to check the stationarity of the dataset\n",
    "### German \n",
    "- Verwenden Sie die Funktion check_stationarity, um die Stationarität des Datensatzes zu überprüfen"
   ]
  },
  {
   "cell_type": "code",
   "execution_count": null,
   "id": "b4570831-a0a6-49cd-92b3-bc4d3880438d",
   "metadata": {},
   "outputs": [],
   "source": [
    "# let the train set be the part from 1958 to the end of 1997\n",
    "#Lassen Sie den Trainingsdatensatz den Teil von 1958 bis Ende 1997 sein\n",
    "train = df[:'1997-12-01']\n",
    "print(\"Lenght of train\", len(train))  # 478 months\n",
    "\n",
    "# test set from the first month of 1998 to the end of 2001.\n",
    "#Testdatensatz vom ersten Monat 1998 bis Ende 2001.\n",
    "test = df['1998-01-01':]\n",
    "print(\"Lenght of test\", len(test))  # 48 months\n"
   ]
  },
  {
   "cell_type": "markdown",
   "id": "9532e9dc-6d91-4706-914f-c838d46b6c78",
   "metadata": {},
   "source": [
    "### English \n",
    "- Activate the code to split the dataset into train and test\n",
    "### German \n",
    "- Aktivieren Sie den Code, um den Datensatz in Trainings- und Testdaten zu teilen"
   ]
  },
  {
   "cell_type": "code",
   "execution_count": null,
   "id": "d6110743-7016-4f00-a842-0411bb0e15a9",
   "metadata": {},
   "outputs": [],
   "source": [
    "#7\n",
    "# code here "
   ]
  },
  {
   "cell_type": "code",
   "execution_count": null,
   "id": "54365b41-2bda-4a09-90c1-164759f19384",
   "metadata": {},
   "outputs": [],
   "source": [
    "transform_and_test_stationarity(train, diff_lag=1)"
   ]
  },
  {
   "cell_type": "code",
   "execution_count": null,
   "id": "85c93cde-c7b5-4ed2-8d2b-e41263def3f7",
   "metadata": {},
   "outputs": [],
   "source": [
    "stationary_train = transform_and_test_stationarity(train, diff_lag=1)"
   ]
  },
  {
   "cell_type": "markdown",
   "id": "03c995d9-f9c1-4229-9d97-cc42ba67e0af",
   "metadata": {},
   "source": [
    "### English \n",
    "- Use the transform_and_test_stationarity function to convert the train dataset to stationary. (diff_lag=1)\n",
    "### German \n",
    "- Verwenden Sie die Funktion transform_and_test_stationarity, um den Trainingsdatensatz stationär zu machen (iff_lag=1)"
   ]
  },
  {
   "cell_type": "markdown",
   "id": "c76bb5af-3c38-4a1f-9669-b145a0e638bf",
   "metadata": {},
   "source": [
    "## Model Training "
   ]
  },
  {
   "cell_type": "code",
   "execution_count": null,
   "id": "4ec0fb45-02da-4661-9d17-612ae8dc74d3",
   "metadata": {},
   "outputs": [],
   "source": [
    "# 8 \n",
    "### English \n",
    "- The best parameters are below. Use them to train the model. \n",
    "### German \n",
    "- Die besten Parameter sind unten aufgeführt. Verwenden Sie sie, um das Modell zu trainieren."
   ]
  },
  {
   "cell_type": "markdown",
   "id": "f44cde02-fe74-4a73-a100-b46f9543769c",
   "metadata": {},
   "source": [
    "- {'smoothing_level': 0.01,\n",
    " - 'smoothing_slope': 0.56,\n",
    " - 'smoothing_seasonal': 0.12,\n",
    "-  'seasonal_periods': 12,\n",
    "-  'damped_trend': True,\n",
    "-  'Best RMSE': 0.3882619946300227}"
   ]
  },
  {
   "cell_type": "code",
   "execution_count": null,
   "id": "aea4de64-6bab-412b-932f-5fe56f2eed91",
   "metadata": {},
   "outputs": [],
   "source": [
    "# 9\n",
    "model = ExponentialSmoothing(\n",
    "    train, \n",
    "    trend='add' ,\n",
    "    seasonal='add', \n",
    "    seasonal_periods=?,\n",
    "    damped_trend=?\n",
    ")\n",
    "\n",
    "fitted_model = model.fit(smoothing_level=?, smoothing_slope = ?, smoothing_seasonal= ?)\n",
    "forecast_triple = fitted_model.forecast(len(test))\n"
   ]
  },
  {
   "cell_type": "markdown",
   "id": "b280880e-64ee-429e-aae4-91df0e1a357c",
   "metadata": {},
   "source": [
    "### English \n",
    "- Fill in the gaps in the model with the best parameters\n",
    "### German \n",
    "- Füllen Sie die Lücken im Modell mit den besten Parametern aus."
   ]
  },
  {
   "cell_type": "code",
   "execution_count": null,
   "id": "30b73235-0cf2-4521-99aa-95d282aa435c",
   "metadata": {},
   "outputs": [],
   "source": [
    "# 10 \n",
    "\n",
    "test_df = test.to_frame(name='actual_values')\n",
    "test_df['predicted_values_triple'] = forecast_triple\n",
    "test_df.head()"
   ]
  },
  {
   "cell_type": "markdown",
   "id": "0d860940-2a3c-43b5-894e-9620ee78276e",
   "metadata": {},
   "source": [
    "### English \n",
    "- Activate the code to convert the test to a dataframe (test_df) and add the predictions to this dataframe.\n",
    "### German \n",
    "- Aktivieren Sie den Code, um den Test in ein DataFrame (test_df) umzuwandeln und die Vorhersagen zu diesem DataFrame hinzuzufügen"
   ]
  },
  {
   "cell_type": "code",
   "execution_count": null,
   "id": "1ead258d-2e3b-4c74-8e23-571a2bce1d58",
   "metadata": {},
   "outputs": [],
   "source": [
    "mse = mean_squared_error(test_df['actual_values'], test_df['predicted_values_triple'])"
   ]
  },
  {
   "cell_type": "code",
   "execution_count": null,
   "id": "3ac101d2-166c-4688-958c-19591c95565d",
   "metadata": {},
   "outputs": [],
   "source": [
    "\n",
    "plt.figure(figsize=(10, 6))\n",
    "plt.plot(test_df.index, test_df['actual_values'], label='Actual dcoilwtico', marker='o')\n",
    "plt.plot(test_df.index, test_df['predicted_values_triple'], label='Predicted Values', marker='x', linestyle='--')\n",
    "plt.xlabel('Date')\n",
    "plt.ylabel('Value')\n",
    "plt.title(f'Comparison of Actual dcoilwtico and Predicted Values\\nRMSE: {np.sqrt (mse):.4f}')\n",
    "plt.xticks(rotation=45)\n",
    "plt.legend()\n",
    "plt.tight_layout()\n",
    "plt.show()"
   ]
  },
  {
   "cell_type": "code",
   "execution_count": null,
   "id": "6caf403b-ac10-4009-b227-dff647cc7456",
   "metadata": {},
   "outputs": [],
   "source": []
  },
  {
   "cell_type": "code",
   "execution_count": null,
   "id": "edb5c140-5540-478c-a475-4e772677be26",
   "metadata": {},
   "outputs": [],
   "source": []
  }
 ],
 "metadata": {
  "kernelspec": {
   "display_name": "Python 3 (ipykernel)",
   "language": "python",
   "name": "python3"
  },
  "language_info": {
   "codemirror_mode": {
    "name": "ipython",
    "version": 3
   },
   "file_extension": ".py",
   "mimetype": "text/x-python",
   "name": "python",
   "nbconvert_exporter": "python",
   "pygments_lexer": "ipython3",
   "version": "3.11.5"
  }
 },
 "nbformat": 4,
 "nbformat_minor": 5
}
